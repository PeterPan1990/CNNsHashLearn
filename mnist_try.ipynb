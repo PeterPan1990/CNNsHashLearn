{
 "metadata": {
  "name": ""
 },
 "nbformat": 3,
 "nbformat_minor": 0,
 "worksheets": [
  {
   "cells": [
    {
     "cell_type": "code",
     "collapsed": false,
     "input": [
      "import numpy as np\n",
      "import matplotlib.pyplot as plt\n",
      "%matplotlib inline\n",
      "\n",
      "# Make sure that caffe is on the python path:\n",
      "caffe_root = '../'  # this file is expected to be in {caffe_root}/examples\n",
      "import sys\n",
      "sys.path.insert(0, caffe_root + 'python')\n",
      "\n",
      "import caffe\n"
     ],
     "language": "python",
     "metadata": {},
     "outputs": [],
     "prompt_number": 1
    },
    {
     "cell_type": "code",
     "collapsed": false,
     "input": [
      "caffe.set_mode_cpu()\n",
      "net = caffe.Net(caffe_root + 'models/mnisthash/lenet.prototxt',\n",
      "                caffe_root + 'models/mnisthash/lenet_iter_2000.caffemodel', 1)"
     ],
     "language": "python",
     "metadata": {},
     "outputs": [],
     "prompt_number": 2
    },
    {
     "cell_type": "code",
     "collapsed": false,
     "input": [
      "TEST_DATA_FILE = '../data/mnist/t10k-images-idx3-ubyte'\n",
      "TEST_LABEL_FILE = '../data/mnist/t10k-labels-idx1-ubyte'\n",
      "test_n = 10000\n",
      "\n",
      "with open(TEST_DATA_FILE, 'rb') as f:\n",
      "    f.read(16) # skip the header\n",
      "    test_raw_data = np.fromstring(f.read(test_n * 28*28), dtype=np.uint8)\n",
      "\n",
      "with open(TEST_LABEL_FILE, 'rb') as f:\n",
      "    f.read(8) # skip the header\n",
      "    test_labels = np.fromstring(f.read(test_n), dtype=np.uint8)\n",
      "    \n",
      "    # reshaped preprocess\n",
      "test_caffe_in = test_raw_data.reshape(test_n, 1, 28, 28) * 0.00390625 # manually scale data instead of using `caffe.io.Transformer`\n",
      "print test_caffe_in.shape\n",
      "test_out = net.forward_all(data=test_caffe_in)\n",
      "print [(k, v.shape) for k, v in test_out.items()]"
     ],
     "language": "python",
     "metadata": {},
     "outputs": [
      {
       "output_type": "stream",
       "stream": "stdout",
       "text": [
        "(10000, 1, 28, 28)\n",
        "[('hash', (10000, 32)), ('prob', (10000, 10))]"
       ]
      },
      {
       "output_type": "stream",
       "stream": "stdout",
       "text": [
        "\n"
       ]
      }
     ],
     "prompt_number": 3
    },
    {
     "cell_type": "code",
     "collapsed": false,
     "input": [
      "TRAIN_DATA_FILE = '../data/mnist/train-images-idx3-ubyte'\n",
      "TRAIN_LABEL_FILE = '../data/mnist/train-labels-idx1-ubyte'\n",
      "train_n = 60000\n",
      "\n",
      "with open(TRAIN_DATA_FILE, 'rb') as f:\n",
      "    f.read(16) # skip the header\n",
      "    train_raw_data = np.fromstring(f.read(train_n * 28*28), dtype=np.uint8)\n",
      "\n",
      "with open(TRAIN_LABEL_FILE, 'rb') as f:\n",
      "    f.read(8) # skip the header\n",
      "    train_labels = np.fromstring(f.read(train_n), dtype=np.uint8)\n",
      "    \n",
      "    # reshape and preprocess\n",
      "train_caffe_in = train_raw_data.reshape(train_n, 1, 28, 28) * 0.00390625 # manually scale data instead of using `caffe.io.Transformer`\n",
      "print train_caffe_in.shape\n",
      "\n",
      "train_out = net.forward_all(data=train_caffe_in)\n",
      "print [(k, v.shape) for k, v in train_out.items()]"
     ],
     "language": "python",
     "metadata": {},
     "outputs": [
      {
       "output_type": "stream",
       "stream": "stdout",
       "text": [
        "(60000, 1, 28, 28)\n",
        "[('hash', (60000, 32)), ('prob', (60000, 10))]"
       ]
      },
      {
       "output_type": "stream",
       "stream": "stdout",
       "text": [
        "\n"
       ]
      }
     ],
     "prompt_number": 4
    },
    {
     "cell_type": "code",
     "collapsed": false,
     "input": [
      "print [(k, v.shape) for k, v in test_out.items()]\n",
      "test_prob = test_out['prob']\n",
      "test_code = test_out['hash']\n",
      "tmp = 0\n",
      "for i in range(0, test_n):\n",
      "    if (test_prob[i].argmax() == test_labels[i]):\n",
      "        tmp = tmp+1\n",
      "print tmp*100.0/test_n\n",
      "\n",
      "ind = 1\n",
      "print test_prob.shape\n",
      "print test_prob[ind].argmax()\n",
      "print test_labels[ind]\n",
      "plt.imshow(test_caffe_in[ind][0])"
     ],
     "language": "python",
     "metadata": {},
     "outputs": [
      {
       "output_type": "stream",
       "stream": "stdout",
       "text": [
        "[('hash', (10000, 32)), ('prob', (10000, 10))]\n",
        "98.29\n",
        "(10000, 10)\n",
        "2\n",
        "2\n"
       ]
      },
      {
       "metadata": {},
       "output_type": "pyout",
       "prompt_number": 5,
       "text": [
        "<matplotlib.image.AxesImage at 0x7fb1c51730d0>"
       ]
      },
      {
       "metadata": {},
       "output_type": "display_data",
       "png": "[encoded data removed]",
       "text": [
        "<matplotlib.figure.Figure at 0x7fb1c532e390>"
       ]
      }
     ],
     "prompt_number": 5
    },
    {
     "cell_type": "code",
     "collapsed": false,
     "input": [
      "print [(k, v.shape) for k, v in train_out.items()]\n",
      "train_prob = train_out['prob']\n",
      "train_code = train_out['hash']\n",
      "tmp = 0\n",
      "for i in range(0, train_n):\n",
      "    if (train_prob[i].argmax() == train_labels[i]):\n",
      "        tmp = tmp+1\n",
      "print tmp*100.0/train_n\n",
      "\n",
      "ind = 1\n",
      "print train_prob.shape\n",
      "print train_prob[ind].argmax()\n",
      "print train_labels[ind]\n",
      "plt.imshow(train_caffe_in[ind][0])"
     ],
     "language": "python",
     "metadata": {},
     "outputs": [
      {
       "output_type": "stream",
       "stream": "stdout",
       "text": [
        "[('hash', (60000, 32)), ('prob', (60000, 10))]\n",
        "98.2366666667"
       ]
      },
      {
       "output_type": "stream",
       "stream": "stdout",
       "text": [
        "\n",
        "(60000, 10)\n",
        "0\n",
        "0\n"
       ]
      },
      {
       "metadata": {},
       "output_type": "pyout",
       "prompt_number": 6,
       "text": [
        "<matplotlib.image.AxesImage at 0x7fb1c4f87090>"
       ]
      },
      {
       "metadata": {},
       "output_type": "display_data",
       "png": "[encoded data removed]",
       "text": [
        "<matplotlib.figure.Figure at 0x7fb1c50ff350>"
       ]
      }
     ],
     "prompt_number": 6
    },
    {
     "cell_type": "code",
     "collapsed": false,
     "input": [
      "[(k, v.data.shape,v.data.size) for k, v in net.blobs.items()]"
     ],
     "language": "python",
     "metadata": {},
     "outputs": [
      {
       "metadata": {},
       "output_type": "pyout",
       "prompt_number": 7,
       "text": [
        "[('data', (64, 1, 28, 28), 50176),\n",
        " ('conv1', (64, 20, 24, 24), 737280),\n",
        " ('pool1', (64, 20, 12, 12), 184320),\n",
        " ('conv2', (64, 50, 8, 8), 204800),\n",
        " ('pool2', (64, 50, 4, 4), 51200),\n",
        " ('ip1', (64, 500), 32000),\n",
        " ('ip3', (64, 32), 2048),\n",
        " ('ip3_ip3_0_split_0', (64, 32), 2048),\n",
        " ('ip3_ip3_0_split_1', (64, 32), 2048),\n",
        " ('ip4', (64, 32), 2048),\n",
        " ('ip2', (64, 10), 640),\n",
        " ('prob', (64, 10), 640),\n",
        " ('hash', (64, 32), 2048)]"
       ]
      }
     ],
     "prompt_number": 7
    },
    {
     "cell_type": "code",
     "collapsed": false,
     "input": [
      "def haimingDis(v1, v2, len = 32):\n",
      "    tmp = 0\n",
      "    for i in range(0, len):\n",
      "        if v1[i] != v2[i]:\n",
      "            tmp = tmp+1\n",
      "    return tmp"
     ],
     "language": "python",
     "metadata": {},
     "outputs": [],
     "prompt_number": 8
    },
    {
     "cell_type": "code",
     "collapsed": false,
     "input": [
      "train_code = train_code>0.5\n",
      "test_code = test_code>0.5"
     ],
     "language": "python",
     "metadata": {},
     "outputs": [],
     "prompt_number": 9
    },
    {
     "cell_type": "code",
     "collapsed": false,
     "input": [],
     "language": "python",
     "metadata": {},
     "outputs": []
    },
    {
     "cell_type": "code",
     "collapsed": false,
     "input": [
      "print haimingDis(train_code[1],test_code[2])\n",
      "print train_code[1]\n",
      "print test_code[2]\n",
      "plt.plot(train_code[1],'ro')"
     ],
     "language": "python",
     "metadata": {},
     "outputs": [
      {
       "output_type": "stream",
       "stream": "stdout",
       "text": [
        "18\n",
        "[ True False False False False False  True  True  True  True False  True\n",
        "  True False  True False False False False  True  True False  True False\n",
        "  True False False False False False False  True]\n",
        "[False  True  True False False  True  True  True  True False  True  True\n",
        " False  True False  True False  True  True False False False False  True\n",
        " False False False False False  True False  True]\n"
       ]
      },
      {
       "metadata": {},
       "output_type": "pyout",
       "prompt_number": 10,
       "text": [
        "[<matplotlib.lines.Line2D at 0x7fb1c4ebfad0>]"
       ]
      },
      {
       "metadata": {},
       "output_type": "display_data",
       "png": "[encoded data removed]",
       "text": [
        "<matplotlib.figure.Figure at 0x7fb1c509d0d0>"
       ]
      }
     ],
     "prompt_number": 10
    },
    {
     "cell_type": "code",
     "collapsed": false,
     "input": [
      "test_len = 1000\n",
      "train_len = 5000\n",
      "hDis = [[0 for j in range(0, train_len)] for i in range(0, test_len)]\n",
      "for i in range(test_len, test_len + test_len):\n",
      "    for j in range(0, train_len):\n",
      "        hDis[i-test_len][j] = haimingDis(test_code[i], train_code[j])\n",
      "print \"Done.\""
     ],
     "language": "python",
     "metadata": {},
     "outputs": [
      {
       "output_type": "stream",
       "stream": "stdout",
       "text": [
        "Done.\n"
       ]
      }
     ],
     "prompt_number": 19
    },
    {
     "cell_type": "code",
     "collapsed": false,
     "input": [
      "sum = 0\n",
      "sum_n = 0\n",
      "bits = 32\n",
      "limit = 2\n",
      "sum_A = [0 for i in range(0, 33)]\n",
      "sum_K = [0 for i in range(0, 33)]\n",
      "for limit in range(0,33):\n",
      "    for i in range(0, test_len):\n",
      "        top_K = 0 #\u68c0\u7d22\u5230\u7684\u4e0e\u6d4b\u8bd5\u6570\u636ei\u6807\u7b7e\u76f8\u540c\u7684\u6570\n",
      "        top_A = 0 #\u6d4b\u8bd5\u6570\u636ei\u68c0\u7d22\u5230\u7684\u6570, \u6d77\u660e\u8ddd\u79bb<=limit\n",
      "        for j in range(0, train_len):\n",
      "            tmp = hDis[i][j]\n",
      "            if (tmp <= limit):\n",
      "                top_K = top_K + 1\n",
      "                if (test_labels[i] == train_labels[j]):\n",
      "                    top_A = top_A + 1\n",
      "        if (top_K > 0):\n",
      "            sum_n = sum_n + 1\n",
      "            sum = sum + top_A*1.0/top_K #\u7b2ci\u4e2a\u6d4b\u8bd5\u6570\u636e\u7684\u6b63\u786e\u7387\n",
      "        sum_A[limit] += top_A\n",
      "        sum_K[limit] += top_K\n",
      "\n",
      "\n",
      "#\u5bf9\u6bcf\u4e2a\u6d4b\u8bd5\u6570\u636e\u7684\u51c6\u786e\u7387\u6c42\u5e73\u5747\n",
      "#p = sum/sum_n \n",
      "#\u6d4b\u8bd5\u6570\u636e\u68c0\u7d22\u5230\u7684label\u76f8\u540c\u7684\u603b\u6570/\u68c0\u7d22\u5230\u7684\u603b\u6570\n",
      "#print p\n",
      "#print p1\n",
      "#******* for (0, 100) - (0, 1000)\n",
      "# limit =3 p = 0.864268228344 p1 =  0.944267145725\n",
      "# limit=2 p = 0.886506716104  p1 = 0.970506165802\n",
      "# limit=1 p = 0.90382710757  p1 = 0.989893559832\n",
      "# limit=0 p = 0.939712149406 p1 = 0.995708862849\n",
      "#******* for (0, 1000) - (0, 5000)\n",
      "#limit=2 p = 0.865325767702 p1 = 0.96877395437\n",
      "#limit=1 p = 0.898816039037 p1 = 0.98300566477\n",
      "#limit=0 p = 0.943064998893 p1 = 0.99002179149\n",
      "# ****** for (1000, 2000) - (0, 5000)\n",
      "#limit = 2 p = 0.858182155308 p1 = 0.960158393063\n",
      "#limit = 1 p = 0.895853415031 p1 = 0.983384832932\n",
      "#limit = 0 p = 0.955832181636 p1= 0.993436454849\n",
      "\n",
      "# limit = 2 0.863262378503 0.966991035057\n",
      "\n",
      "#limit = 5 0.826398153414 0.872779519331 3341 3828\n",
      "# 100 - 500\u7684\u7ed3\u679c\n",
      "#[1307, 2750, 3614, 4170, 4595, 4801, 4917, 4999, 5037, 5055, 5096, 5151, 5168, 5189, 5190, 5193, 5196, 5202, 5204, 5204, 5204, 5204, 5204, 5204, 5204, 5204, 5204, 5204, 5204, 5204, 5204, 5204, 5204]\n",
      "#[1307, 2750, 3614, 4174, 4604, 4821, 4962, 5094, 5254, 5460, 5894, 6814, 9026, 12355, 16014, 19419, 23733, 29948, 36137, 41232, 44483, 46315, 47674, 48807, 49493, 49857, 49942, 49987, 50000, 50000, 50000, 50000, 50000]\n",
      "# (0, 1000)-(0, 5000)\n",
      "#[118502, 241800, 328565, 386382, 423939, 448219, 465664, 478160, 486294, 491750, 496155, 499307, 501026, 502041, 502481, 502831, 503021, 503181, 503265, 503295, 503298, 503303, 503303, 503305, 503305, 503305, 503305, 503305, 503305, 503305, 503305, 503305, 503305]\n",
      "#[118538, 241899, 329027, 387521, 426705, 453476, 474077, 492438, 511342, 540637, 592991, 691297, 898445, 1242377, 1681446, 2086381, 2555398, 3167263, 3730413, 4208079, 4507093, 4682132, 4797121, 4898060, 4960860, 4991477, 4998007, 4999483, 4999935, 5000000, 5000000, 5000000, 5000000]\n",
      "# (1000, 2000) - (0, 5000)\n",
      "#[118502, 241800, 328565, 386382, 423939, 448219, 465664, 478160, 486294, 491750, 496155, 499307, 501026, 502041, 502481, 502831, 503021, 503181, 503265, 503295, 503298, 503303, 503303, 503305, 503305, 503305, 503305, 503305, 503305, 503305, 503305, 503305, 503305]\n",
      "#[118538, 241899, 329027, 387521, 426705, 453476, 474077, 492438, 511342, 540637, 592991, 691297, 898445, 1242377, 1681446, 2086381, 2555398, 3167263, 3730413, 4208079, 4507093, 4682132, 4797121, 4898060, 4960860, 4991477, 4998007, 4999483, 4999935, 5000000, 5000000, 5000000, 5000000]\n",
      "print sum_A\n",
      "print sum_K"
     ],
     "language": "python",
     "metadata": {},
     "outputs": [
      {
       "output_type": "stream",
       "stream": "stdout",
       "text": [
        "[118502, 241800, 328565, 386382, 423939, 448219, 465664, 478160, 486294, 491750, 496155, 499307, 501026, 502041, 502481, 502831, 503021, 503181, 503265, 503295, 503298, 503303, 503303, 503305, 503305, 503305, 503305, 503305, 503305, 503305, 503305, 503305, 503305]\n",
        "[118538, 241899, 329027, 387521, 426705, 453476, 474077, 492438, 511342, 540637, 592991, 691297, 898445, 1242377, 1681446, 2086381, 2555398, 3167263, 3730413, 4208079, 4507093, 4682132, 4797121, 4898060, 4960860, 4991477, 4998007, 4999483, 4999935, 5000000, 5000000, 5000000, 5000000]\n"
       ]
      }
     ],
     "prompt_number": 15
    },
    {
     "cell_type": "code",
     "collapsed": false,
     "input": [
      "pre = [0 for i in range(0,33)]\n",
      "rec = [0 for i in range(0,33)]\n",
      "for i in range(0,33):\n",
      "    pre[i] = sum_A[i]*1.0/sum_K[i]\n",
      "    rec[i] = sum_A[i] * 1.0/503305.0\n",
      "# print pre\n",
      "# print rec\n",
      "plt.xlabel(\"recall\")# make axis labels\n",
      "plt.ylabel(\"precision\")\n",
      "plt.plot(rec, pre)"
     ],
     "language": "python",
     "metadata": {},
     "outputs": [
      {
       "metadata": {},
       "output_type": "pyout",
       "prompt_number": 20,
       "text": [
        "[<matplotlib.lines.Line2D at 0x7fb1c4aeaa50>]"
       ]
      },
      {
       "metadata": {},
       "output_type": "display_data",
       "png": "[encoded data removed]",
       "text": [
        "<matplotlib.figure.Figure at 0x7fb1c4bc29d0>"
       ]
      }
     ],
     "prompt_number": 20
    },
    {
     "cell_type": "code",
     "collapsed": false,
     "input": [],
     "language": "python",
     "metadata": {},
     "outputs": []
    },
    {
     "cell_type": "code",
     "collapsed": false,
     "input": [
      "vec = [0 for i in range(0, 10)]\n",
      "mp = [[0 for i in range(0, 10)] for i in range(0, 10)]\n",
      "\n",
      "for i in range(0, train_len):\n",
      "    vec[train_labels[i]] += 1\n",
      "\n",
      "recall = [0 for i in range(0, 10)]\n",
      "pre = [0 for i in range(0, 10)]\n",
      "disLen = [0 for i in range(0, train_len)]\n",
      "last = [-1 for i in range(0, 33)]\n",
      "nxt = [-1 for i in range(0, train_len)]\n",
      "sum_a =  [0 for i in range(0, 10)]\n",
      "sum_k =  [0 for i in range(0, 10)]\n",
      "\n",
      "print vec\n",
      "print mp"
     ],
     "language": "python",
     "metadata": {},
     "outputs": [
      {
       "output_type": "stream",
       "stream": "stdout",
       "text": [
        "[479, 563, 488, 493, 535, 434, 501, 550, 462, 495]\n",
        "[[0, 0, 0, 0, 0, 0, 0, 0, 0, 0], [0, 0, 0, 0, 0, 0, 0, 0, 0, 0], [0, 0, 0, 0, 0, 0, 0, 0, 0, 0], [0, 0, 0, 0, 0, 0, 0, 0, 0, 0], [0, 0, 0, 0, 0, 0, 0, 0, 0, 0], [0, 0, 0, 0, 0, 0, 0, 0, 0, 0], [0, 0, 0, 0, 0, 0, 0, 0, 0, 0], [0, 0, 0, 0, 0, 0, 0, 0, 0, 0], [0, 0, 0, 0, 0, 0, 0, 0, 0, 0], [0, 0, 0, 0, 0, 0, 0, 0, 0, 0]]\n"
       ]
      }
     ],
     "prompt_number": 22
    },
    {
     "cell_type": "code",
     "collapsed": false,
     "input": [
      "\n",
      "\n",
      "for s in range(0 , 10):\n",
      "    for t in range(0, 10):\n",
      "        mp[s][t] = vec[t]*(s+1)/10\n",
      "    print mp[s][:]\n",
      "    sum_a[s] = 0\n",
      "    sum_k[s] = 0\n",
      "    for i in range (0, test_len):\n",
      "        last = [-1 for j in range(0, 33)]\n",
      "        nxt = [-1 for j in range(0, train_len)]\n",
      "        for j in range(0, train_len):\n",
      "            dis = haimingDis(test_code[i], train_code[j])\n",
      "            nxt[j] = last[dis]\n",
      "            last[dis] = j\n",
      "        #print last\n",
      "        k = 0\n",
      "        top_k = 0\n",
      "        top_a = 0\n",
      "        while (k<33 and top_a < mp[s][test_labels[i]]):\n",
      "            now = last[k]\n",
      "            while (now != -1 and top_a < mp[s][test_labels[i]]):\n",
      "                top_k += 1\n",
      "                if (train_labels[now] == test_labels[i]):\n",
      "                    top_a += 1\n",
      "                now = nxt[now]\n",
      "            k = k + 1\n",
      "        \n",
      "        sum_a[s] += top_a\n",
      "        sum_k[s] += top_k\n",
      "        \n",
      "    print sum_a[s]\n",
      "    print sum_k[s]\n",
      "    print \"************\"\n",
      "\n",
      "print sum_a\n",
      "print sum_k"
     ],
     "language": "python",
     "metadata": {},
     "outputs": [],
     "prompt_number": "*"
    },
    {
     "cell_type": "code",
     "collapsed": false,
     "input": [
      "# limit = 1 75107 76376\n",
      "#limit = 0 23763 23920\n",
      "# 131270 35751\n",
      "for i in range(0, 10):\n",
      "    print sum_a[i]*100.0/sum_k[i]\n",
      "\n",
      "\n",
      "\n",
      "\n"
     ],
     "language": "python",
     "metadata": {},
     "outputs": [
      {
       "output_type": "stream",
       "stream": "stdout",
       "text": [
        "48.1665014866\n",
        "54.0425531915\n",
        "58.8166601791\n",
        "62.2256097561\n",
        "64.0663694898\n",
        "64.4444444444\n",
        "62.9268292683\n",
        "60.0873362445\n",
        "52.4666214076\n",
        "22.3885733953\n"
       ]
      }
     ],
     "prompt_number": 58
    },
    {
     "cell_type": "code",
     "collapsed": false,
     "input": [
      "sum = 0\n",
      "bits = 32\n",
      "for i in range(0, 4):\n",
      "    top_k = 0\n",
      "    top_v = bits\n",
      "    for j in range(0, 10000):\n",
      "        tmp = haimingDis(test_code[i], train_code[j])\n",
      "        if (tmp < top_v):\n",
      "            top_v = tmp\n",
      "            top_k = j\n",
      "    print top_v\n",
      "    print test_labels[i]\n",
      "    # plt.imshow(test_caffe_in[i][0])\n",
      "    print train_labels[top_k]\n",
      "    # plt.imshow(train_caffe_in[top_k][0])\n",
      "    print \"********************\"\n",
      "print sum"
     ],
     "language": "python",
     "metadata": {},
     "outputs": []
    },
    {
     "cell_type": "code",
     "collapsed": false,
     "input": [],
     "language": "python",
     "metadata": {},
     "outputs": []
    },
    {
     "cell_type": "code",
     "collapsed": false,
     "input": [
      "print train_labels[0:20]"
     ],
     "language": "python",
     "metadata": {},
     "outputs": []
    },
    {
     "cell_type": "code",
     "collapsed": false,
     "input": [],
     "language": "python",
     "metadata": {},
     "outputs": []
    }
   ],
   "metadata": {}
  }
 ]
}

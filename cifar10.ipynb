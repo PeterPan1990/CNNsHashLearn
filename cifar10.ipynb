{
 "metadata": {
  "name": ""
 },
 "nbformat": 3,
 "nbformat_minor": 0,
 "worksheets": [
  {
   "cells": [
    {
     "cell_type": "code",
     "collapsed": false,
     "input": [
      "import numpy as np\n",
      "import matplotlib.pyplot as plt\n",
      "%matplotlib inline\n",
      "\n",
      "# Make sure that caffe is on the python path:\n",
      "caffe_root = '../'  # this file is expected to be in {caffe_root}/examples\n",
      "import sys\n",
      "sys.path.insert(0, caffe_root + 'python')\n",
      "\n",
      "import caffe"
     ],
     "language": "python",
     "metadata": {},
     "outputs": [],
     "prompt_number": 1
    },
    {
     "cell_type": "code",
     "collapsed": false,
     "input": [
      "caffe.set_mode_cpu()\n",
      "net = caffe.Net(caffe_root + 'models/cifar1/cifar10_quick.prototxt',\n",
      "                caffe_root + 'models/cifar1/cifar10_quick_iter_20000.caffemodel',1)\n",
      "print \"done\""
     ],
     "language": "python",
     "metadata": {},
     "outputs": [
      {
       "output_type": "stream",
       "stream": "stdout",
       "text": [
        "done\n"
       ]
      }
     ],
     "prompt_number": 2
    },
    {
     "cell_type": "code",
     "collapsed": false,
     "input": [
      "def unpickle(file):\n",
      "    import cPickle\n",
      "    fo = open(file, 'rb')\n",
      "    dict = cPickle.load(fo)\n",
      "    fo.close()\n",
      "    return dict"
     ],
     "language": "python",
     "metadata": {},
     "outputs": [],
     "prompt_number": 3
    },
    {
     "cell_type": "code",
     "collapsed": false,
     "input": [
      "TEST_FILE = \"../data/cifar-10-py/test_batch\"\n",
      "test_file0  = unpickle(TEST_FILE)\n",
      "test_data = test_file0['data']\n",
      "test_caffe_in = test_data.reshape(10000,  3, 32, 32)"
     ],
     "language": "python",
     "metadata": {},
     "outputs": [],
     "prompt_number": 4
    },
    {
     "cell_type": "code",
     "collapsed": false,
     "input": [
      "test_out = net.forward_all(data = test_caffe_in)"
     ],
     "language": "python",
     "metadata": {},
     "outputs": [],
     "prompt_number": 5
    },
    {
     "cell_type": "code",
     "collapsed": false,
     "input": [
      "test_labels = test_file0['labels']\n",
      "test_prob = test_out['prob']\n",
      "\n",
      "tmp = 0\n",
      "for i in range(0, 10000):\n",
      "    if (test_prob[i].argmax() == test_labels[i]):\n",
      "        tmp = tmp+1\n",
      "print tmp*100.0/10000"
     ],
     "language": "python",
     "metadata": {},
     "outputs": [
      {
       "output_type": "stream",
       "stream": "stdout",
       "text": [
        "59.47\n"
       ]
      }
     ],
     "prompt_number": 8
    },
    {
     "cell_type": "code",
     "collapsed": false,
     "input": [
      "TRAIN_FILE_1 = \"../data/cifar-10-py/data_batch_2\"\n",
      "train_file1 = unpickle(TRAIN_FILE_1)"
     ],
     "language": "python",
     "metadata": {},
     "outputs": [],
     "prompt_number": 9
    },
    {
     "cell_type": "code",
     "collapsed": false,
     "input": [
      "TRAIN_FILE_2 = \"../data/cifar-10-py/data_batch_2\"\n",
      "train_file2 = unpickle(TRAIN_FILE_2)\n",
      "print [(k ) for k, v in train_file1.items()]\n",
      "print train_file1['data'].shape\n",
      "train_data = train_file1['data']\n",
      "train_labels = train_file1['labels']\n",
      "train_caffe_in = train_data.reshape(10000,3,32,32)"
     ],
     "language": "python",
     "metadata": {},
     "outputs": [
      {
       "output_type": "stream",
       "stream": "stdout",
       "text": [
        "['data', 'labels', 'batch_label', 'filenames']\n",
        "(10000, 3072)\n"
       ]
      }
     ],
     "prompt_number": 10
    },
    {
     "cell_type": "code",
     "collapsed": false,
     "input": [
      "train_out = net.forward_all(data = train_caffe_in)"
     ],
     "language": "python",
     "metadata": {},
     "outputs": [],
     "prompt_number": 11
    },
    {
     "cell_type": "code",
     "collapsed": false,
     "input": [
      "train_labels = train_file1['labels']\n",
      "train_prob = train_out['prob']\n",
      "tmp = 0\n",
      "for i in range(0, 10000):\n",
      "    if (train_prob[i].argmax() == train_labels[i]):\n",
      "        tmp = tmp+1\n",
      "print tmp*100.0/10000"
     ],
     "language": "python",
     "metadata": {},
     "outputs": [
      {
       "output_type": "stream",
       "stream": "stdout",
       "text": [
        "61.94\n"
       ]
      }
     ],
     "prompt_number": 12
    },
    {
     "cell_type": "code",
     "collapsed": false,
     "input": [
      "test_caffe_in.shape\n",
      "ind = 6\n",
      "img1 = test_caffe_in[ind]\n",
      "print file1['labels'][ind]\n",
      "tmp = [[[0 for k in range(0,3)]for j in range(0,32)] for i in range(0,32)]\n",
      "\n",
      "for i  in range(0,32):\n",
      "    for j in range(0,32):\n",
      "        for k in range(0,3):\n",
      "            tmp[i][j][k] = img1[k][i][j]\n",
      "plt.imshow(tmp)"
     ],
     "language": "python",
     "metadata": {},
     "outputs": [
      {
       "ename": "NameError",
       "evalue": "name 'file1' is not defined",
       "output_type": "pyerr",
       "traceback": [
        "\u001b[0;31m---------------------------------------------------------------------------\u001b[0m\n\u001b[0;31mNameError\u001b[0m                                 Traceback (most recent call last)",
        "\u001b[0;32m<ipython-input-13-3a216359068b>\u001b[0m in \u001b[0;36m<module>\u001b[0;34m()\u001b[0m\n\u001b[1;32m      2\u001b[0m \u001b[0mind\u001b[0m \u001b[0;34m=\u001b[0m \u001b[0;36m6\u001b[0m\u001b[0;34m\u001b[0m\u001b[0m\n\u001b[1;32m      3\u001b[0m \u001b[0mimg1\u001b[0m \u001b[0;34m=\u001b[0m \u001b[0mtest_caffe_in\u001b[0m\u001b[0;34m[\u001b[0m\u001b[0mind\u001b[0m\u001b[0;34m]\u001b[0m\u001b[0;34m\u001b[0m\u001b[0m\n\u001b[0;32m----> 4\u001b[0;31m \u001b[0;32mprint\u001b[0m \u001b[0mfile1\u001b[0m\u001b[0;34m[\u001b[0m\u001b[0;34m'labels'\u001b[0m\u001b[0;34m]\u001b[0m\u001b[0;34m[\u001b[0m\u001b[0mind\u001b[0m\u001b[0;34m]\u001b[0m\u001b[0;34m\u001b[0m\u001b[0m\n\u001b[0m\u001b[1;32m      5\u001b[0m \u001b[0mtmp\u001b[0m \u001b[0;34m=\u001b[0m \u001b[0;34m[\u001b[0m\u001b[0;34m[\u001b[0m\u001b[0;34m[\u001b[0m\u001b[0;36m0\u001b[0m \u001b[0;32mfor\u001b[0m \u001b[0mk\u001b[0m \u001b[0;32min\u001b[0m \u001b[0mrange\u001b[0m\u001b[0;34m(\u001b[0m\u001b[0;36m0\u001b[0m\u001b[0;34m,\u001b[0m\u001b[0;36m3\u001b[0m\u001b[0;34m)\u001b[0m\u001b[0;34m]\u001b[0m\u001b[0;32mfor\u001b[0m \u001b[0mj\u001b[0m \u001b[0;32min\u001b[0m \u001b[0mrange\u001b[0m\u001b[0;34m(\u001b[0m\u001b[0;36m0\u001b[0m\u001b[0;34m,\u001b[0m\u001b[0;36m32\u001b[0m\u001b[0;34m)\u001b[0m\u001b[0;34m]\u001b[0m \u001b[0;32mfor\u001b[0m \u001b[0mi\u001b[0m \u001b[0;32min\u001b[0m \u001b[0mrange\u001b[0m\u001b[0;34m(\u001b[0m\u001b[0;36m0\u001b[0m\u001b[0;34m,\u001b[0m\u001b[0;36m32\u001b[0m\u001b[0;34m)\u001b[0m\u001b[0;34m]\u001b[0m\u001b[0;34m\u001b[0m\u001b[0m\n\u001b[1;32m      6\u001b[0m \u001b[0;34m\u001b[0m\u001b[0m\n",
        "\u001b[0;31mNameError\u001b[0m: name 'file1' is not defined"
       ]
      }
     ],
     "prompt_number": 13
    },
    {
     "cell_type": "code",
     "collapsed": false,
     "input": [
      "def haimingDis(v1, v2, len = 32):\n",
      "    tmp = 0\n",
      "    for i in range(0, len):\n",
      "        if v1[i] != v2[i]:\n",
      "            tmp = tmp+1\n",
      "    return tmp"
     ],
     "language": "python",
     "metadata": {},
     "outputs": [],
     "prompt_number": 14
    },
    {
     "cell_type": "code",
     "collapsed": false,
     "input": [
      "train_code = train_out['hash']\n",
      "test_code = test_out['hash']\n",
      "train_code = train_code>0.5\n",
      "test_code = test_code>0.5"
     ],
     "language": "python",
     "metadata": {},
     "outputs": [],
     "prompt_number": 15
    },
    {
     "cell_type": "code",
     "collapsed": false,
     "input": [
      "sum_x = 0\n",
      "cnt_x = 0\n",
      "sum_y = 0\n",
      "cnt_y = 0\n",
      "for i in range(0, 10000):\n",
      "    if (test_labels[i] == train_labels[0]):\n",
      "        cnt_x += 1\n",
      "        sum_x += haimingDis(test_code[i], train_code[0])\n",
      "    else:\n",
      "        cnt_y += 1\n",
      "        sum_y += haimingDis(test_code[i], train_code[0])\n",
      "print sum_x*1.0/cnt_x\n",
      "print sum_y*1.0/cnt_y"
     ],
     "language": "python",
     "metadata": {},
     "outputs": [
      {
       "output_type": "stream",
       "stream": "stdout",
       "text": [
        "10.723\n",
        "15.0702222222\n"
       ]
      }
     ],
     "prompt_number": 16
    },
    {
     "cell_type": "code",
     "collapsed": false,
     "input": [
      "print haimingDis(train_code[1],test_code[3])\n",
      "print train_code[1]\n",
      "print test_code[3]\n",
      "plt.subplot(2,2,1)\n",
      "plt.plot(train_code[1],'ro')\n",
      "plt.subplot(2,2,2)\n",
      "plt.plot(test_code[3], 'ro')\n",
      "plt.subplot(2,2,3)\n",
      "plt.imshow(train_caffe_in[1][0])\n",
      "plt.subplot(2,2,4)\n",
      "plt.imshow(test_caffe_in[3][0])"
     ],
     "language": "python",
     "metadata": {},
     "outputs": [
      {
       "output_type": "stream",
       "stream": "stdout",
       "text": [
        "14\n",
        "[ True  True False False False False  True False False  True False  True\n",
        "  True False False  True  True False False False False False False  True\n",
        " False  True  True  True  True  True False  True]\n",
        "[ True  True False  True  True  True False  True False False False  True\n",
        " False False  True  True False  True False  True  True False False  True\n",
        " False  True False  True  True  True  True  True]\n"
       ]
      },
      {
       "metadata": {},
       "output_type": "pyout",
       "prompt_number": 17,
       "text": [
        "<matplotlib.image.AxesImage at 0x7f5e8c43f510>"
       ]
      },
      {
       "metadata": {},
       "output_type": "display_data",
       "png": "[encoded data removed]",
       "text": [
        "<matplotlib.figure.Figure at 0x7f5e8c51c590>"
       ]
      }
     ],
     "prompt_number": 17
    },
    {
     "cell_type": "code",
     "collapsed": false,
     "input": [
      "test_len = 100\n",
      "train_len = 5000\n",
      "hDis = [[0 for j in range(0, train_len)] for i in range(0, test_len)]\n",
      "for i in range(0, test_len):\n",
      "    for j in range(0, train_len):\n",
      "        hDis[i][j] = haimingDis(test_code[i], train_code[j])\n",
      "print \"Done.\""
     ],
     "language": "python",
     "metadata": {},
     "outputs": [
      {
       "output_type": "stream",
       "stream": "stdout",
       "text": [
        "Done.\n"
       ]
      }
     ],
     "prompt_number": 18
    },
    {
     "cell_type": "code",
     "collapsed": false,
     "input": [
      "sum = 0\n",
      "sum_n = 0\n",
      "bits = 32\n",
      "limit = 2\n",
      "sum_A = [0 for i in range(0, bits+1)]\n",
      "sum_K = [0 for i in range(0, bits+1)]\n",
      "for limit in range(0,bits+1):\n",
      "    for i in range(0, test_len):\n",
      "        top_K = 0 #\u68c0\u7d22\u5230\u7684\u4e0e\u6d4b\u8bd5\u6570\u636ei\u6807\u7b7e\u76f8\u540c\u7684\u6570\n",
      "        top_A = 0 #\u6d4b\u8bd5\u6570\u636ei\u68c0\u7d22\u5230\u7684\u6570, \u6d77\u660e\u8ddd\u79bb<=limit\n",
      "        for j in range(0, train_len):\n",
      "            tmp = hDis[i][j]\n",
      "            if (tmp <= limit):\n",
      "                top_K = top_K + 1\n",
      "                if (test_labels[i] == train_labels[j]):\n",
      "                    top_A = top_A + 1\n",
      "        if (top_K > 0):\n",
      "            sum_n = sum_n + 1\n",
      "            sum = sum + top_A*1.0/top_K #\u7b2ci\u4e2a\u6d4b\u8bd5\u6570\u636e\u7684\u6b63\u786e\u7387\n",
      "        sum_A[limit] += top_A\n",
      "        sum_K[limit] += top_K\n",
      "\n",
      "#******** pre 47%\n",
      "#sum_A = [114, 695, 1862, 3776, 6459, 9962, 14162, 18830, 23574, 28315, 32715, 36775, 40181, 43022, 45239, 46898, 48129, 48995, 49525, 49862, 50050, 50145, 50199, 50225, 50242, 50245, 50247, 50247, 50247, 50247, 50247, 50247, 50247]\n",
      "#sum_K = [221, 1285, 3859, 8567, 16089, 27283, 42681, 62931, 87871, 117608, 152095, 190294, 231244, 272683, 313942, 352567, 386972, 416324, 440418, 459408, 473543, 483479, 490122, 494485, 497232, 498795, 499558, 499856, 499973, 499993, 499998, 500000, 500000]\n",
      "\n",
      "print sum_A\n",
      "print sum_K"
     ],
     "language": "python",
     "metadata": {},
     "outputs": [
      {
       "output_type": "stream",
       "stream": "stdout",
       "text": [
        "[361, 1325, 2791, 4832, 7577, 10871, 14443, 18453, 22726, 27123, 31121, 34887, 38075, 40928, 43291, 45341, 46816, 47962, 48775, 49251, 49594, 49769, 49859, 49904, 49920, 49933, 49934, 49936, 49936, 49936, 49936, 49936, 49936]\n",
        "[368, 1464, 3459, 6892, 12285, 20139, 30453, 44557, 62750, 86168, 114236, 147067, 182388, 221055, 260494, 301192, 340815, 377847, 410042, 436964, 458325, 474282, 485252, 492305, 496216, 498303, 499253, 499696, 499900, 499983, 499998, 500000, 500000]\n"
       ]
      }
     ],
     "prompt_number": 21
    },
    {
     "cell_type": "code",
     "collapsed": false,
     "input": [
      "#sum_A = [47, 93, 149, 201, 281, 347, 401, 419, 434, 451, 471, 491, 511, 560, 596, 652, 731, 866, 976, 1069, 1215, 1345, 1623, 1907, 2273, 2726, 3296, 3749, 4106, 4439, 4668, 4827, 4987]\n",
      "#sum_K = [402, 1212, 2048, 2708, 3209, 3603, 3894, 4160, 4376, 4535, 4700, 4835, 4976, 5180, 5457, 5844, 6434, 7341, 8548, 10069, 12159, 14661, 17621, 20651, 23782, 27482, 31736, 35895, 39397, 42322, 44699, 46618, 48120]\n",
      "\n",
      "pre = [0 for i in range(0,bits+1)]\n",
      "rec = [0 for i in range(0,bits+1)]\n",
      "for i in range(0,bits+1):\n",
      "    pre[i] = sum_A[i]*1.0/sum_K[i]\n",
      "    rec[i] = sum_A[i] * 1.0/49936.0\n",
      "print pre\n",
      "print rec\n",
      "print \"\u5206\u7c7b\u51c6\u786e\u7387\u4e3a61.94%\u65f6\"\n",
      "plt.xlabel(\"recall\")# make axis labels\n",
      "plt.ylabel(\"precision\")\n",
      "plt.plot(rec, pre, '*-')"
     ],
     "language": "python",
     "metadata": {},
     "outputs": [
      {
       "output_type": "stream",
       "stream": "stdout",
       "text": [
        "[0.9809782608695652, 0.9050546448087432, 0.8068806013298642, 0.7011027278003482, 0.6167684167684168, 0.5397984011122697, 0.4742718287196664, 0.4141436811275445, 0.36216733067729084, 0.3147688236932504, 0.2724272558562975, 0.2372184106563675, 0.20875825163936224, 0.18514849245662843, 0.16618808878515437, 0.1505385269197057, 0.13736484603083784, 0.12693497632639666, 0.11895122938625799, 0.1127118023452733, 0.1082070583101511, 0.1049354603379424, 0.10274867491530174, 0.10136805435654726, 0.10060135102455382, 0.1002060995017088, 0.10001742603449554, 0.09993275911754347, 0.09989197839567913, 0.09987539576345596, 0.09987239948959796, 0.099872, 0.099872]\n",
        "[0.007229253444408844, 0.026533963473245756, 0.05589154117270106, 0.09676385773790452, 0.15173421980134572, 0.21769865427747517, 0.2892302146747837, 0.3695330022428709, 0.4551025312399872, 0.543155238705543, 0.6232177186799103, 0.6986342518423582, 0.762475969240628, 0.8196090996475489, 0.8669296699775713, 0.9079822172380647, 0.93752002563281, 0.9604694008330663, 0.9767502403075937, 0.9862824415251522, 0.993151233578981, 0.9966557193207305, 0.9984580262736302, 0.9993591797500802, 0.99967958987504, 0.99993992310157, 0.99995994873438, 1.0, 1.0, 1.0, 1.0, 1.0, 1.0]\n",
        "\u5206\u7c7b\u51c6\u786e\u7387\u4e3a61.94%\u65f6\n"
       ]
      },
      {
       "metadata": {},
       "output_type": "pyout",
       "prompt_number": 34,
       "text": [
        "[<matplotlib.lines.Line2D at 0x7f5e88472710>]"
       ]
      },
      {
       "metadata": {},
       "output_type": "display_data",
       "png": "[encoded data removed]",
       "text": [
        "<matplotlib.figure.Figure at 0x7f5e8aae84d0>"
       ]
      }
     ],
     "prompt_number": 34
    },
    {
     "cell_type": "code",
     "collapsed": false,
     "input": [],
     "language": "python",
     "metadata": {},
     "outputs": []
    }
   ],
   "metadata": {}
  }
 ]
}
